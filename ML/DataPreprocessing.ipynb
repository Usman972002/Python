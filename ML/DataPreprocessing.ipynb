{
  "nbformat": 4,
  "nbformat_minor": 0,
  "metadata": {
    "colab": {
      "provenance": [],
      "authorship_tag": "ABX9TyP/V6PRgjxP5UyAAjuvPrfH",
      "include_colab_link": true
    },
    "kernelspec": {
      "name": "python3",
      "display_name": "Python 3"
    },
    "language_info": {
      "name": "python"
    }
  },
  "cells": [
    {
      "cell_type": "markdown",
      "metadata": {
        "id": "view-in-github",
        "colab_type": "text"
      },
      "source": [
        "<a href=\"https://colab.research.google.com/github/Usman972002/Python/blob/main/ML/DataPreprocessing.ipynb\" target=\"_parent\"><img src=\"https://colab.research.google.com/assets/colab-badge.svg\" alt=\"Open In Colab\"/></a>"
      ]
    },
    {
      "cell_type": "markdown",
      "source": [
        "***Data PreProcessing***"
      ],
      "metadata": {
        "id": "18yrBP-fKNtN"
      }
    },
    {
      "cell_type": "code",
      "source": [
        "# Importing all the libraries\n",
        "import pandas as pd\n",
        "import numpy as np\n",
        "import matplotlib.pyplot as plt"
      ],
      "metadata": {
        "id": "RWR8bQuYKTGR"
      },
      "execution_count": 21,
      "outputs": []
    },
    {
      "cell_type": "code",
      "source": [
        "# Importing dataSet\n",
        "ds = pd.read_csv('Covid_data.csv')\n",
        "x = ds.iloc[: , :-1].values\n",
        "print(\"ALL the Values Except the hospitality\",x)\n",
        "y =ds.iloc[:,-1].values\n",
        "print(\"Only the hospitality Values\",y)"
      ],
      "metadata": {
        "colab": {
          "base_uri": "https://localhost:8080/"
        },
        "id": "VF6na6ykO075",
        "outputId": "0cb7fa33-1f6b-447c-9e44-3e9ca4a0bad6"
      },
      "execution_count": 22,
      "outputs": [
        {
          "output_type": "stream",
          "name": "stdout",
          "text": [
            "ALL the Values Except the hospitality [[10.0 'Normal' 'no' 'no' 97.0]\n",
            " [12.0 'Normal' 'no' 'no' 97.0]\n",
            " [15.0 'Normal' 'no' 'no' 94.0]\n",
            " [10.0 'Normal' 'no' 'no' 97.0]\n",
            " [13.0 'Moderate' 'no' 'no' 94.0]\n",
            " [12.0 'Moderate' 'no' 'no' 97.0]\n",
            " [13.0 'Moderate' 'no' 'no' 93.0]\n",
            " [15.0 'Moderate' 'no' 'no' 92.0]\n",
            " [18.0 'Moderate' 'no' 'no' 66.0]\n",
            " [19.0 'Normal' 'no' 'no' 92.0]\n",
            " [20.0 'Normal' 'no' 'no' 93.0]\n",
            " [17.0 'Normal' 'no' 'no' 93.0]\n",
            " [16.0 'Normal' 'no' 'no' 92.0]\n",
            " [18.0 'Normal' 'no' 'no' 93.0]\n",
            " [20.0 'Normal' 'no' 'no' 92.0]\n",
            " [25.0 'Moderate' 'no' 'no' 93.0]\n",
            " [24.0 'Moderate' 'no' 'no' 92.0]\n",
            " [26.0 'High' 'no' 'no' 94.0]\n",
            " [28.0 'Normal' 'no' 'no' 99.0]\n",
            " [29.0 'Normal' 'no' 'no' 93.0]\n",
            " [30.0 'Moderate' 'no' 'no' 62.0]\n",
            " [19.0 'Normal' 'no' 'no' 89.0]\n",
            " [25.0 'Normal' 'no' 'yes' 86.0]\n",
            " [26.0 'Normal' 'no' 'no' nan]\n",
            " [28.0 'Normal' 'no' 'no' 89.0]\n",
            " [30.0 'Moderate' 'yes' 'no' 86.0]\n",
            " [35.0 'Moderate' 'no' 'no' 89.0]\n",
            " [32.0 'Moderate' 'no' 'yes' 84.0]\n",
            " [nan 'Moderate' 'yes' 'no' 90.0]\n",
            " [32.0 'Moderate' 'no' 'no' 89.0]\n",
            " [35.0 'Moderate' 'no' 'yes' 92.0]\n",
            " [38.0 'High' 'no' 'no' 75.0]\n",
            " [40.0 'Moderate' 'no' 'yes' 90.0]\n",
            " [46.0 'High' 'yes' 'no' 91.0]\n",
            " [48.0 'Moderate' 'no' 'yes' 93.0]\n",
            " [42.0 'High' 'no' 'no' 92.0]\n",
            " [40.0 'High' 'no' 'no' 92.0]\n",
            " [49.0 'Moderate' 'no' 'no' 80.0]\n",
            " [50.0 'High' 'yes' 'yes' 77.0]\n",
            " [36.0 'High' 'yes' 'no' 90.0]\n",
            " [52.0 'High' 'yes' 'yes' 80.0]\n",
            " [56.0 'High' 'yes' 'yes' 77.0]\n",
            " [58.0 'High' 'no' 'no' 70.0]\n",
            " [59.0 'High' 'no' 'yes' 69.0]\n",
            " [60.0 'High' 'yes' 'yes' 68.0]\n",
            " [53.0 'High' 'yes' 'no' 55.0]\n",
            " [54.0 'High' 'yes' 'yes' 70.0]\n",
            " [62.0 'High' 'yes' 'yes' 68.0]\n",
            " [63.0 'High' 'yes' 'yes' 66.0]\n",
            " [68.0 'High' 'yes' 'no' 67.0]\n",
            " [69.0 'High' 'no' 'yes' 53.0]\n",
            " [64.0 'High' 'yes' 'yes' 73.0]\n",
            " [61.0 'High' 'yes' 'yes' 76.0]\n",
            " [70.0 'Normal' 'no' 'yes' 88.0]\n",
            " [59.0 'High' 'yes' 'no' 68.0]\n",
            " [62.0 'High' 'yes' 'yes' 69.0]\n",
            " [78.0 'High' 'yes' 'yes' 71.0]\n",
            " [74.0 'High' 'yes' 'yes' 75.0]\n",
            " [75.0 'High' 'no' 'yes' 72.0]\n",
            " [56.0 'High' 'yes' 'no' 76.0]\n",
            " [80.0 'High' 'no' 'yes' 92.0]\n",
            " [82.0 'High' 'yes' 'yes' 73.0]\n",
            " [86.0 'High' 'yes' 'yes' 71.0]\n",
            " [90.0 'High' 'yes' 'yes' 67.0]\n",
            " [84.0 'High' 'yes' 'yes' 75.0]\n",
            " [86.0 'High' 'no' 'yes' 76.0]\n",
            " [61.0 'Moderate' 'no' 'yes' 90.0]\n",
            " [94.0 'High' 'yes' 'yes' 64.0]\n",
            " [81.0 'High' 'yes' 'yes' 75.0]\n",
            " [76.0 'High' 'yes' 'yes' 80.0]]\n",
            "Only the hospitality Values ['No' 'No' 'No' 'No' 'No' 'No' 'No' 'No' 'Yes' 'No' 'No' 'No' 'No' 'No'\n",
            " 'No' 'No' 'No' 'No' 'No' 'No' 'Yes' 'No' 'No' 'No' 'No' 'No' 'No' 'No'\n",
            " 'No' 'No' 'No' 'Yes' 'No' 'No' 'No' 'No' 'No' 'Yes' 'Yes' 'No' 'Yes'\n",
            " 'Yes' 'Yes' 'Yes' 'Yes' 'Yes' 'Yes' 'Yes' 'Yes' 'Yes' 'Yes' 'Yes' 'Yes'\n",
            " 'No' 'Yes' 'Yes' 'Yes' 'Yes' 'Yes' 'Yes' 'No' 'Yes' 'Yes' 'Yes' 'Yes'\n",
            " 'Yes' 'No' 'Yes' 'Yes' 'Yes']\n"
          ]
        }
      ]
    },
    {
      "cell_type": "code",
      "source": [
        "# Handling missing data\n",
        "from sklearn.impute import SimpleImputer\n",
        "imputer = SimpleImputer(missing_values = np.nan, strategy='mean')\n",
        "imputer.fit(x[ : , 0:1])\n",
        "x[ : ,0:1] = imputer.transform(x[ : ,0:1])\n",
        "print(x)\n"
      ],
      "metadata": {
        "colab": {
          "base_uri": "https://localhost:8080/"
        },
        "id": "_PWCtRCuPyLc",
        "outputId": "c98a2e41-aec5-43f7-a4f3-8a882ffaae53"
      },
      "execution_count": 25,
      "outputs": [
        {
          "output_type": "stream",
          "name": "stdout",
          "text": [
            "[[10.0 'Normal' 'no' 'no' 97.0]\n",
            " [12.0 'Normal' 'no' 'no' 97.0]\n",
            " [15.0 'Normal' 'no' 'no' 94.0]\n",
            " [10.0 'Normal' 'no' 'no' 97.0]\n",
            " [13.0 'Moderate' 'no' 'no' 94.0]\n",
            " [12.0 'Moderate' 'no' 'no' 97.0]\n",
            " [13.0 'Moderate' 'no' 'no' 93.0]\n",
            " [15.0 'Moderate' 'no' 'no' 92.0]\n",
            " [18.0 'Moderate' 'no' 'no' 66.0]\n",
            " [19.0 'Normal' 'no' 'no' 92.0]\n",
            " [20.0 'Normal' 'no' 'no' 93.0]\n",
            " [17.0 'Normal' 'no' 'no' 93.0]\n",
            " [16.0 'Normal' 'no' 'no' 92.0]\n",
            " [18.0 'Normal' 'no' 'no' 93.0]\n",
            " [20.0 'Normal' 'no' 'no' 92.0]\n",
            " [25.0 'Moderate' 'no' 'no' 93.0]\n",
            " [24.0 'Moderate' 'no' 'no' 92.0]\n",
            " [26.0 'High' 'no' 'no' 94.0]\n",
            " [28.0 'Normal' 'no' 'no' 99.0]\n",
            " [29.0 'Normal' 'no' 'no' 93.0]\n",
            " [30.0 'Moderate' 'no' 'no' 62.0]\n",
            " [19.0 'Normal' 'no' 'no' 89.0]\n",
            " [25.0 'Normal' 'no' 'yes' 86.0]\n",
            " [26.0 'Normal' 'no' 'no' nan]\n",
            " [28.0 'Normal' 'no' 'no' 89.0]\n",
            " [30.0 'Moderate' 'yes' 'no' 86.0]\n",
            " [35.0 'Moderate' 'no' 'no' 89.0]\n",
            " [32.0 'Moderate' 'no' 'yes' 84.0]\n",
            " [45.130434782608695 'Moderate' 'yes' 'no' 90.0]\n",
            " [32.0 'Moderate' 'no' 'no' 89.0]\n",
            " [35.0 'Moderate' 'no' 'yes' 92.0]\n",
            " [38.0 'High' 'no' 'no' 75.0]\n",
            " [40.0 'Moderate' 'no' 'yes' 90.0]\n",
            " [46.0 'High' 'yes' 'no' 91.0]\n",
            " [48.0 'Moderate' 'no' 'yes' 93.0]\n",
            " [42.0 'High' 'no' 'no' 92.0]\n",
            " [40.0 'High' 'no' 'no' 92.0]\n",
            " [49.0 'Moderate' 'no' 'no' 80.0]\n",
            " [50.0 'High' 'yes' 'yes' 77.0]\n",
            " [36.0 'High' 'yes' 'no' 90.0]\n",
            " [52.0 'High' 'yes' 'yes' 80.0]\n",
            " [56.0 'High' 'yes' 'yes' 77.0]\n",
            " [58.0 'High' 'no' 'no' 70.0]\n",
            " [59.0 'High' 'no' 'yes' 69.0]\n",
            " [60.0 'High' 'yes' 'yes' 68.0]\n",
            " [53.0 'High' 'yes' 'no' 55.0]\n",
            " [54.0 'High' 'yes' 'yes' 70.0]\n",
            " [62.0 'High' 'yes' 'yes' 68.0]\n",
            " [63.0 'High' 'yes' 'yes' 66.0]\n",
            " [68.0 'High' 'yes' 'no' 67.0]\n",
            " [69.0 'High' 'no' 'yes' 53.0]\n",
            " [64.0 'High' 'yes' 'yes' 73.0]\n",
            " [61.0 'High' 'yes' 'yes' 76.0]\n",
            " [70.0 'Normal' 'no' 'yes' 88.0]\n",
            " [59.0 'High' 'yes' 'no' 68.0]\n",
            " [62.0 'High' 'yes' 'yes' 69.0]\n",
            " [78.0 'High' 'yes' 'yes' 71.0]\n",
            " [74.0 'High' 'yes' 'yes' 75.0]\n",
            " [75.0 'High' 'no' 'yes' 72.0]\n",
            " [56.0 'High' 'yes' 'no' 76.0]\n",
            " [80.0 'High' 'no' 'yes' 92.0]\n",
            " [82.0 'High' 'yes' 'yes' 73.0]\n",
            " [86.0 'High' 'yes' 'yes' 71.0]\n",
            " [90.0 'High' 'yes' 'yes' 67.0]\n",
            " [84.0 'High' 'yes' 'yes' 75.0]\n",
            " [86.0 'High' 'no' 'yes' 76.0]\n",
            " [61.0 'Moderate' 'no' 'yes' 90.0]\n",
            " [94.0 'High' 'yes' 'yes' 64.0]\n",
            " [81.0 'High' 'yes' 'yes' 75.0]\n",
            " [76.0 'High' 'yes' 'yes' 80.0]]\n"
          ]
        }
      ]
    },
    {
      "cell_type": "code",
      "source": [
        "imputer.fit(x[ : , 4:5])\n",
        "x[ : ,4:5] = imputer.transform(x[ : ,4:5])\n",
        "print(x)"
      ],
      "metadata": {
        "colab": {
          "base_uri": "https://localhost:8080/"
        },
        "id": "3gPaQTqQFZNf",
        "outputId": "9bf9f581-7a38-4d2d-a871-18f5f2a9f758"
      },
      "execution_count": 27,
      "outputs": [
        {
          "output_type": "stream",
          "name": "stdout",
          "text": [
            "[[10.0 'Normal' 'no' 'no' 97.0]\n",
            " [12.0 'Normal' 'no' 'no' 97.0]\n",
            " [15.0 'Normal' 'no' 'no' 94.0]\n",
            " [10.0 'Normal' 'no' 'no' 97.0]\n",
            " [13.0 'Moderate' 'no' 'no' 94.0]\n",
            " [12.0 'Moderate' 'no' 'no' 97.0]\n",
            " [13.0 'Moderate' 'no' 'no' 93.0]\n",
            " [15.0 'Moderate' 'no' 'no' 92.0]\n",
            " [18.0 'Moderate' 'no' 'no' 66.0]\n",
            " [19.0 'Normal' 'no' 'no' 92.0]\n",
            " [20.0 'Normal' 'no' 'no' 93.0]\n",
            " [17.0 'Normal' 'no' 'no' 93.0]\n",
            " [16.0 'Normal' 'no' 'no' 92.0]\n",
            " [18.0 'Normal' 'no' 'no' 93.0]\n",
            " [20.0 'Normal' 'no' 'no' 92.0]\n",
            " [25.0 'Moderate' 'no' 'no' 93.0]\n",
            " [24.0 'Moderate' 'no' 'no' 92.0]\n",
            " [26.0 'High' 'no' 'no' 94.0]\n",
            " [28.0 'Normal' 'no' 'no' 99.0]\n",
            " [29.0 'Normal' 'no' 'no' 93.0]\n",
            " [30.0 'Moderate' 'no' 'no' 62.0]\n",
            " [19.0 'Normal' 'no' 'no' 89.0]\n",
            " [25.0 'Normal' 'no' 'yes' 86.0]\n",
            " [26.0 'Normal' 'no' 'no' 82.07246376811594]\n",
            " [28.0 'Normal' 'no' 'no' 89.0]\n",
            " [30.0 'Moderate' 'yes' 'no' 86.0]\n",
            " [35.0 'Moderate' 'no' 'no' 89.0]\n",
            " [32.0 'Moderate' 'no' 'yes' 84.0]\n",
            " [45.130434782608695 'Moderate' 'yes' 'no' 90.0]\n",
            " [32.0 'Moderate' 'no' 'no' 89.0]\n",
            " [35.0 'Moderate' 'no' 'yes' 92.0]\n",
            " [38.0 'High' 'no' 'no' 75.0]\n",
            " [40.0 'Moderate' 'no' 'yes' 90.0]\n",
            " [46.0 'High' 'yes' 'no' 91.0]\n",
            " [48.0 'Moderate' 'no' 'yes' 93.0]\n",
            " [42.0 'High' 'no' 'no' 92.0]\n",
            " [40.0 'High' 'no' 'no' 92.0]\n",
            " [49.0 'Moderate' 'no' 'no' 80.0]\n",
            " [50.0 'High' 'yes' 'yes' 77.0]\n",
            " [36.0 'High' 'yes' 'no' 90.0]\n",
            " [52.0 'High' 'yes' 'yes' 80.0]\n",
            " [56.0 'High' 'yes' 'yes' 77.0]\n",
            " [58.0 'High' 'no' 'no' 70.0]\n",
            " [59.0 'High' 'no' 'yes' 69.0]\n",
            " [60.0 'High' 'yes' 'yes' 68.0]\n",
            " [53.0 'High' 'yes' 'no' 55.0]\n",
            " [54.0 'High' 'yes' 'yes' 70.0]\n",
            " [62.0 'High' 'yes' 'yes' 68.0]\n",
            " [63.0 'High' 'yes' 'yes' 66.0]\n",
            " [68.0 'High' 'yes' 'no' 67.0]\n",
            " [69.0 'High' 'no' 'yes' 53.0]\n",
            " [64.0 'High' 'yes' 'yes' 73.0]\n",
            " [61.0 'High' 'yes' 'yes' 76.0]\n",
            " [70.0 'Normal' 'no' 'yes' 88.0]\n",
            " [59.0 'High' 'yes' 'no' 68.0]\n",
            " [62.0 'High' 'yes' 'yes' 69.0]\n",
            " [78.0 'High' 'yes' 'yes' 71.0]\n",
            " [74.0 'High' 'yes' 'yes' 75.0]\n",
            " [75.0 'High' 'no' 'yes' 72.0]\n",
            " [56.0 'High' 'yes' 'no' 76.0]\n",
            " [80.0 'High' 'no' 'yes' 92.0]\n",
            " [82.0 'High' 'yes' 'yes' 73.0]\n",
            " [86.0 'High' 'yes' 'yes' 71.0]\n",
            " [90.0 'High' 'yes' 'yes' 67.0]\n",
            " [84.0 'High' 'yes' 'yes' 75.0]\n",
            " [86.0 'High' 'no' 'yes' 76.0]\n",
            " [61.0 'Moderate' 'no' 'yes' 90.0]\n",
            " [94.0 'High' 'yes' 'yes' 64.0]\n",
            " [81.0 'High' 'yes' 'yes' 75.0]\n",
            " [76.0 'High' 'yes' 'yes' 80.0]]\n"
          ]
        }
      ]
    },
    {
      "cell_type": "code",
      "source": [
        "# Encoding Categorized data\n",
        "from sklearn.compose import ColumnTransformer\n",
        "from sklearn.preprocessing import OneHotEncoder"
      ],
      "metadata": {
        "id": "aqkr_xzCM-wu"
      },
      "execution_count": 28,
      "outputs": []
    },
    {
      "cell_type": "code",
      "source": [
        "ct = ColumnTransformer(transformers=[('encoder',OneHotEncoder(), [1])], remainder= 'passthrough')\n",
        "x = np.array(ct.fit_transform(x))\n",
        "print(x)"
      ],
      "metadata": {
        "colab": {
          "base_uri": "https://localhost:8080/"
        },
        "id": "K-JvB5KhND3f",
        "outputId": "b7f6781f-1ebe-4fbc-f55d-1fbea918538f"
      },
      "execution_count": 30,
      "outputs": [
        {
          "output_type": "stream",
          "name": "stdout",
          "text": [
            "[[1.0 0.0 0.0 1.0 10.0 'no' 'no' 97.0]\n",
            " [1.0 0.0 0.0 1.0 12.0 'no' 'no' 97.0]\n",
            " [1.0 0.0 0.0 1.0 15.0 'no' 'no' 94.0]\n",
            " [1.0 0.0 0.0 1.0 10.0 'no' 'no' 97.0]\n",
            " [0.0 1.0 0.0 0.0 13.0 'no' 'no' 94.0]\n",
            " [0.0 1.0 0.0 0.0 12.0 'no' 'no' 97.0]\n",
            " [0.0 1.0 0.0 0.0 13.0 'no' 'no' 93.0]\n",
            " [0.0 1.0 0.0 0.0 15.0 'no' 'no' 92.0]\n",
            " [0.0 1.0 0.0 0.0 18.0 'no' 'no' 66.0]\n",
            " [1.0 0.0 0.0 1.0 19.0 'no' 'no' 92.0]\n",
            " [1.0 0.0 0.0 1.0 20.0 'no' 'no' 93.0]\n",
            " [1.0 0.0 0.0 1.0 17.0 'no' 'no' 93.0]\n",
            " [1.0 0.0 0.0 1.0 16.0 'no' 'no' 92.0]\n",
            " [1.0 0.0 0.0 1.0 18.0 'no' 'no' 93.0]\n",
            " [1.0 0.0 0.0 1.0 20.0 'no' 'no' 92.0]\n",
            " [0.0 1.0 0.0 0.0 25.0 'no' 'no' 93.0]\n",
            " [0.0 1.0 0.0 0.0 24.0 'no' 'no' 92.0]\n",
            " [1.0 0.0 1.0 0.0 26.0 'no' 'no' 94.0]\n",
            " [1.0 0.0 0.0 1.0 28.0 'no' 'no' 99.0]\n",
            " [1.0 0.0 0.0 1.0 29.0 'no' 'no' 93.0]\n",
            " [0.0 1.0 0.0 0.0 30.0 'no' 'no' 62.0]\n",
            " [1.0 0.0 0.0 1.0 19.0 'no' 'no' 89.0]\n",
            " [1.0 0.0 0.0 1.0 25.0 'no' 'yes' 86.0]\n",
            " [1.0 0.0 0.0 1.0 26.0 'no' 'no' 82.07246376811594]\n",
            " [1.0 0.0 0.0 1.0 28.0 'no' 'no' 89.0]\n",
            " [0.0 1.0 0.0 0.0 30.0 'yes' 'no' 86.0]\n",
            " [0.0 1.0 0.0 0.0 35.0 'no' 'no' 89.0]\n",
            " [0.0 1.0 0.0 0.0 32.0 'no' 'yes' 84.0]\n",
            " [0.0 1.0 0.0 0.0 45.130434782608695 'yes' 'no' 90.0]\n",
            " [0.0 1.0 0.0 0.0 32.0 'no' 'no' 89.0]\n",
            " [0.0 1.0 0.0 0.0 35.0 'no' 'yes' 92.0]\n",
            " [1.0 0.0 1.0 0.0 38.0 'no' 'no' 75.0]\n",
            " [0.0 1.0 0.0 0.0 40.0 'no' 'yes' 90.0]\n",
            " [1.0 0.0 1.0 0.0 46.0 'yes' 'no' 91.0]\n",
            " [0.0 1.0 0.0 0.0 48.0 'no' 'yes' 93.0]\n",
            " [1.0 0.0 1.0 0.0 42.0 'no' 'no' 92.0]\n",
            " [1.0 0.0 1.0 0.0 40.0 'no' 'no' 92.0]\n",
            " [0.0 1.0 0.0 0.0 49.0 'no' 'no' 80.0]\n",
            " [1.0 0.0 1.0 0.0 50.0 'yes' 'yes' 77.0]\n",
            " [1.0 0.0 1.0 0.0 36.0 'yes' 'no' 90.0]\n",
            " [1.0 0.0 1.0 0.0 52.0 'yes' 'yes' 80.0]\n",
            " [1.0 0.0 1.0 0.0 56.0 'yes' 'yes' 77.0]\n",
            " [1.0 0.0 1.0 0.0 58.0 'no' 'no' 70.0]\n",
            " [1.0 0.0 1.0 0.0 59.0 'no' 'yes' 69.0]\n",
            " [1.0 0.0 1.0 0.0 60.0 'yes' 'yes' 68.0]\n",
            " [1.0 0.0 1.0 0.0 53.0 'yes' 'no' 55.0]\n",
            " [1.0 0.0 1.0 0.0 54.0 'yes' 'yes' 70.0]\n",
            " [1.0 0.0 1.0 0.0 62.0 'yes' 'yes' 68.0]\n",
            " [1.0 0.0 1.0 0.0 63.0 'yes' 'yes' 66.0]\n",
            " [1.0 0.0 1.0 0.0 68.0 'yes' 'no' 67.0]\n",
            " [1.0 0.0 1.0 0.0 69.0 'no' 'yes' 53.0]\n",
            " [1.0 0.0 1.0 0.0 64.0 'yes' 'yes' 73.0]\n",
            " [1.0 0.0 1.0 0.0 61.0 'yes' 'yes' 76.0]\n",
            " [1.0 0.0 0.0 1.0 70.0 'no' 'yes' 88.0]\n",
            " [1.0 0.0 1.0 0.0 59.0 'yes' 'no' 68.0]\n",
            " [1.0 0.0 1.0 0.0 62.0 'yes' 'yes' 69.0]\n",
            " [1.0 0.0 1.0 0.0 78.0 'yes' 'yes' 71.0]\n",
            " [1.0 0.0 1.0 0.0 74.0 'yes' 'yes' 75.0]\n",
            " [1.0 0.0 1.0 0.0 75.0 'no' 'yes' 72.0]\n",
            " [1.0 0.0 1.0 0.0 56.0 'yes' 'no' 76.0]\n",
            " [1.0 0.0 1.0 0.0 80.0 'no' 'yes' 92.0]\n",
            " [1.0 0.0 1.0 0.0 82.0 'yes' 'yes' 73.0]\n",
            " [1.0 0.0 1.0 0.0 86.0 'yes' 'yes' 71.0]\n",
            " [1.0 0.0 1.0 0.0 90.0 'yes' 'yes' 67.0]\n",
            " [1.0 0.0 1.0 0.0 84.0 'yes' 'yes' 75.0]\n",
            " [1.0 0.0 1.0 0.0 86.0 'no' 'yes' 76.0]\n",
            " [0.0 1.0 0.0 0.0 61.0 'no' 'yes' 90.0]\n",
            " [1.0 0.0 1.0 0.0 94.0 'yes' 'yes' 64.0]\n",
            " [1.0 0.0 1.0 0.0 81.0 'yes' 'yes' 75.0]\n",
            " [1.0 0.0 1.0 0.0 76.0 'yes' 'yes' 80.0]]\n"
          ]
        }
      ]
    },
    {
      "cell_type": "code",
      "source": [
        "# Encoding Dependent Variables\n",
        "from sklearn.preprocessing import LabelEncoder\n",
        "le = LabelEncoder()\n",
        "y = le.fit_transform(y)\n",
        "print(y)"
      ],
      "metadata": {
        "colab": {
          "base_uri": "https://localhost:8080/"
        },
        "id": "3XcanMuDNRxs",
        "outputId": "8b218e98-c91d-474b-fe88-e0471213e75e"
      },
      "execution_count": 32,
      "outputs": [
        {
          "output_type": "stream",
          "name": "stdout",
          "text": [
            "[0 0 0 0 0 0 0 0 1 0 0 0 0 0 0 0 0 0 0 0 1 0 0 0 0 0 0 0 0 0 0 1 0 0 0 0 0\n",
            " 1 1 0 1 1 1 1 1 1 1 1 1 1 1 1 1 0 1 1 1 1 1 1 0 1 1 1 1 1 0 1 1 1]\n"
          ]
        }
      ]
    },
    {
      "cell_type": "code",
      "source": [
        "# Splitting data into test and training sets\n",
        "from sklearn.model_selection import train_test_split\n",
        "x_train, x_test, y_train, y_test = train_test_split(x, y, test_size = 0.2, random_state = 42)"
      ],
      "metadata": {
        "id": "DK6YBh19Ng6j"
      },
      "execution_count": 33,
      "outputs": []
    },
    {
      "cell_type": "code",
      "source": [
        "print(x_train)"
      ],
      "metadata": {
        "colab": {
          "base_uri": "https://localhost:8080/"
        },
        "id": "UskVA6MsNqjy",
        "outputId": "cdf3af5e-4eb4-4829-b356-ff968170d11c"
      },
      "execution_count": 34,
      "outputs": [
        {
          "output_type": "stream",
          "name": "stdout",
          "text": [
            "[[1.0 0.0 1.0 0.0 86.0 'yes' 'yes' 71.0]\n",
            " [0.0 1.0 0.0 0.0 35.0 'no' 'yes' 92.0]\n",
            " [1.0 0.0 1.0 0.0 75.0 'no' 'yes' 72.0]\n",
            " [1.0 0.0 1.0 0.0 42.0 'no' 'no' 92.0]\n",
            " [1.0 0.0 1.0 0.0 74.0 'yes' 'yes' 75.0]\n",
            " [1.0 0.0 1.0 0.0 62.0 'yes' 'yes' 68.0]\n",
            " [0.0 1.0 0.0 0.0 24.0 'no' 'no' 92.0]\n",
            " [0.0 1.0 0.0 0.0 48.0 'no' 'yes' 93.0]\n",
            " [1.0 0.0 1.0 0.0 58.0 'no' 'no' 70.0]\n",
            " [0.0 1.0 0.0 0.0 45.130434782608695 'yes' 'no' 90.0]\n",
            " [0.0 1.0 0.0 0.0 15.0 'no' 'no' 92.0]\n",
            " [1.0 0.0 0.0 1.0 70.0 'no' 'yes' 88.0]\n",
            " [1.0 0.0 1.0 0.0 52.0 'yes' 'yes' 80.0]\n",
            " [1.0 0.0 1.0 0.0 60.0 'yes' 'yes' 68.0]\n",
            " [1.0 0.0 1.0 0.0 54.0 'yes' 'yes' 70.0]\n",
            " [1.0 0.0 0.0 1.0 29.0 'no' 'no' 93.0]\n",
            " [1.0 0.0 1.0 0.0 78.0 'yes' 'yes' 71.0]\n",
            " [1.0 0.0 1.0 0.0 36.0 'yes' 'no' 90.0]\n",
            " [0.0 1.0 0.0 0.0 30.0 'yes' 'no' 86.0]\n",
            " [1.0 0.0 1.0 0.0 50.0 'yes' 'yes' 77.0]\n",
            " [1.0 0.0 0.0 1.0 18.0 'no' 'no' 93.0]\n",
            " [1.0 0.0 1.0 0.0 69.0 'no' 'yes' 53.0]\n",
            " [1.0 0.0 0.0 1.0 10.0 'no' 'no' 97.0]\n",
            " [1.0 0.0 1.0 0.0 26.0 'no' 'no' 94.0]\n",
            " [0.0 1.0 0.0 0.0 18.0 'no' 'no' 66.0]\n",
            " [1.0 0.0 1.0 0.0 62.0 'yes' 'yes' 69.0]\n",
            " [0.0 1.0 0.0 0.0 13.0 'no' 'no' 93.0]\n",
            " [1.0 0.0 1.0 0.0 40.0 'no' 'no' 92.0]\n",
            " [1.0 0.0 1.0 0.0 84.0 'yes' 'yes' 75.0]\n",
            " [1.0 0.0 1.0 0.0 76.0 'yes' 'yes' 80.0]\n",
            " [1.0 0.0 1.0 0.0 81.0 'yes' 'yes' 75.0]\n",
            " [0.0 1.0 0.0 0.0 25.0 'no' 'no' 93.0]\n",
            " [0.0 1.0 0.0 0.0 32.0 'no' 'yes' 84.0]\n",
            " [1.0 0.0 1.0 0.0 56.0 'yes' 'yes' 77.0]\n",
            " [0.0 1.0 0.0 0.0 35.0 'no' 'no' 89.0]\n",
            " [1.0 0.0 1.0 0.0 63.0 'yes' 'yes' 66.0]\n",
            " [1.0 0.0 0.0 1.0 28.0 'no' 'no' 89.0]\n",
            " [1.0 0.0 1.0 0.0 56.0 'yes' 'no' 76.0]\n",
            " [1.0 0.0 1.0 0.0 90.0 'yes' 'yes' 67.0]\n",
            " [1.0 0.0 0.0 1.0 17.0 'no' 'no' 93.0]\n",
            " [0.0 1.0 0.0 0.0 40.0 'no' 'yes' 90.0]\n",
            " [0.0 1.0 0.0 0.0 61.0 'no' 'yes' 90.0]\n",
            " [1.0 0.0 1.0 0.0 82.0 'yes' 'yes' 73.0]\n",
            " [0.0 1.0 0.0 0.0 49.0 'no' 'no' 80.0]\n",
            " [0.0 1.0 0.0 0.0 32.0 'no' 'no' 89.0]\n",
            " [1.0 0.0 1.0 0.0 59.0 'no' 'yes' 69.0]\n",
            " [1.0 0.0 1.0 0.0 86.0 'no' 'yes' 76.0]\n",
            " [1.0 0.0 0.0 1.0 12.0 'no' 'no' 97.0]\n",
            " [1.0 0.0 1.0 0.0 61.0 'yes' 'yes' 76.0]\n",
            " [1.0 0.0 0.0 1.0 19.0 'no' 'no' 89.0]\n",
            " [1.0 0.0 0.0 1.0 15.0 'no' 'no' 94.0]\n",
            " [1.0 0.0 0.0 1.0 26.0 'no' 'no' 82.07246376811594]\n",
            " [0.0 1.0 0.0 0.0 30.0 'no' 'no' 62.0]\n",
            " [1.0 0.0 1.0 0.0 80.0 'no' 'yes' 92.0]\n",
            " [1.0 0.0 0.0 1.0 20.0 'no' 'no' 92.0]\n",
            " [1.0 0.0 1.0 0.0 64.0 'yes' 'yes' 73.0]]\n"
          ]
        }
      ]
    },
    {
      "cell_type": "code",
      "source": [
        "print(x_test)"
      ],
      "metadata": {
        "colab": {
          "base_uri": "https://localhost:8080/"
        },
        "id": "V9-E5xQGNyPC",
        "outputId": "e3a5a64b-66d8-47d8-e363-0ffdbfb947c7"
      },
      "execution_count": 35,
      "outputs": [
        {
          "output_type": "stream",
          "name": "stdout",
          "text": [
            "[[1.0 0.0 0.0 1.0 25.0 'no' 'yes' 86.0]\n",
            " [1.0 0.0 0.0 1.0 10.0 'no' 'no' 97.0]\n",
            " [1.0 0.0 1.0 0.0 68.0 'yes' 'no' 67.0]\n",
            " [0.0 1.0 0.0 0.0 13.0 'no' 'no' 94.0]\n",
            " [1.0 0.0 1.0 0.0 59.0 'yes' 'no' 68.0]\n",
            " [1.0 0.0 0.0 1.0 28.0 'no' 'no' 99.0]\n",
            " [1.0 0.0 0.0 1.0 20.0 'no' 'no' 93.0]\n",
            " [1.0 0.0 1.0 0.0 46.0 'yes' 'no' 91.0]\n",
            " [1.0 0.0 1.0 0.0 53.0 'yes' 'no' 55.0]\n",
            " [1.0 0.0 0.0 1.0 16.0 'no' 'no' 92.0]\n",
            " [1.0 0.0 1.0 0.0 38.0 'no' 'no' 75.0]\n",
            " [1.0 0.0 0.0 1.0 19.0 'no' 'no' 92.0]\n",
            " [1.0 0.0 1.0 0.0 94.0 'yes' 'yes' 64.0]\n",
            " [0.0 1.0 0.0 0.0 12.0 'no' 'no' 97.0]]\n"
          ]
        }
      ]
    },
    {
      "cell_type": "code",
      "source": [
        "print(y_train)"
      ],
      "metadata": {
        "colab": {
          "base_uri": "https://localhost:8080/"
        },
        "id": "ripih2DnN1oU",
        "outputId": "d99b6bfc-72cb-48ed-a753-ae6cd6c6c883"
      },
      "execution_count": 36,
      "outputs": [
        {
          "output_type": "stream",
          "name": "stdout",
          "text": [
            "[1 0 1 0 1 1 0 0 1 0 0 0 1 1 1 0 1 0 0 1 0 1 0 0 1 1 0 0 1 1 1 0 0 1 0 1 0\n",
            " 1 1 0 0 0 1 1 0 1 1 0 1 0 0 0 1 0 0 1]\n"
          ]
        }
      ]
    },
    {
      "cell_type": "code",
      "source": [
        "print(y_test)"
      ],
      "metadata": {
        "colab": {
          "base_uri": "https://localhost:8080/"
        },
        "id": "_VR82iHHN4-Z",
        "outputId": "716e85ac-5b54-46fc-81a5-8fd3a3fcb41e"
      },
      "execution_count": 37,
      "outputs": [
        {
          "output_type": "stream",
          "name": "stdout",
          "text": [
            "[0 0 1 0 1 0 0 0 1 0 1 0 1 0]\n"
          ]
        }
      ]
    },
    {
      "cell_type": "code",
      "source": [
        "# Feature Scaling\n",
        "from sklearn.preprocessing import StandardScaler\n",
        "sc = StandardScaler()\n",
        "x_train[:, 7:] = sc.fit_transform(x_train[:, 7:])\n",
        "x_test[:, 7:] = sc.fit_transform(x_test[:, 7:])"
      ],
      "metadata": {
        "id": "HCe82VjiOA54"
      },
      "execution_count": 39,
      "outputs": []
    },
    {
      "cell_type": "code",
      "source": [
        "print(x_train)"
      ],
      "metadata": {
        "colab": {
          "base_uri": "https://localhost:8080/"
        },
        "id": "X1116DYCOTvK",
        "outputId": "49099b79-edbc-4c6b-8207-12138dcff873"
      },
      "execution_count": 40,
      "outputs": [
        {
          "output_type": "stream",
          "name": "stdout",
          "text": [
            "[[1.0 0.0 1.0 0.0 86.0 'yes' 'yes' -0.9941858494300261]\n",
            " [0.0 1.0 0.0 0.0 35.0 'no' 'yes' 0.9574354145081887]\n",
            " [1.0 0.0 1.0 0.0 75.0 'no' 'yes' -0.9012515035282064]\n",
            " [1.0 0.0 1.0 0.0 42.0 'no' 'no' 0.9574354145081887]\n",
            " [1.0 0.0 1.0 0.0 74.0 'yes' 'yes' -0.6224484658227472]\n",
            " [1.0 0.0 1.0 0.0 62.0 'yes' 'yes' -1.2729888871354853]\n",
            " [0.0 1.0 0.0 0.0 24.0 'no' 'no' 0.9574354145081887]\n",
            " [0.0 1.0 0.0 0.0 48.0 'no' 'yes' 1.0503697604100084]\n",
            " [1.0 0.0 1.0 0.0 58.0 'no' 'no' -1.087120195331846]\n",
            " [0.0 1.0 0.0 0.0 45.130434782608695 'yes' 'no' 0.7715667227045492]\n",
            " [0.0 1.0 0.0 0.0 15.0 'no' 'no' 0.9574354145081887]\n",
            " [1.0 0.0 0.0 1.0 70.0 'no' 'yes' 0.5856980309009097]\n",
            " [1.0 0.0 1.0 0.0 52.0 'yes' 'yes' -0.15777673631364833]\n",
            " [1.0 0.0 1.0 0.0 60.0 'yes' 'yes' -1.2729888871354853]\n",
            " [1.0 0.0 1.0 0.0 54.0 'yes' 'yes' -1.087120195331846]\n",
            " [1.0 0.0 0.0 1.0 29.0 'no' 'no' 1.0503697604100084]\n",
            " [1.0 0.0 1.0 0.0 78.0 'yes' 'yes' -0.9941858494300261]\n",
            " [1.0 0.0 1.0 0.0 36.0 'yes' 'no' 0.7715667227045492]\n",
            " [0.0 1.0 0.0 0.0 30.0 'yes' 'no' 0.3998293390972702]\n",
            " [1.0 0.0 1.0 0.0 50.0 'yes' 'yes' -0.4365797740191076]\n",
            " [1.0 0.0 0.0 1.0 18.0 'no' 'no' 1.0503697604100084]\n",
            " [1.0 0.0 1.0 0.0 69.0 'no' 'yes' -2.6670040756627817]\n",
            " [1.0 0.0 0.0 1.0 10.0 'no' 'no' 1.4221071440172874]\n",
            " [1.0 0.0 1.0 0.0 26.0 'no' 'no' 1.143304106311828]\n",
            " [0.0 1.0 0.0 0.0 18.0 'no' 'no' -1.458857578939125]\n",
            " [1.0 0.0 1.0 0.0 62.0 'yes' 'yes' -1.1800545412336656]\n",
            " [0.0 1.0 0.0 0.0 13.0 'no' 'no' 1.0503697604100084]\n",
            " [1.0 0.0 1.0 0.0 40.0 'no' 'no' 0.9574354145081887]\n",
            " [1.0 0.0 1.0 0.0 84.0 'yes' 'yes' -0.6224484658227472]\n",
            " [1.0 0.0 1.0 0.0 76.0 'yes' 'yes' -0.15777673631364833]\n",
            " [1.0 0.0 1.0 0.0 81.0 'yes' 'yes' -0.6224484658227472]\n",
            " [0.0 1.0 0.0 0.0 25.0 'no' 'no' 1.0503697604100084]\n",
            " [0.0 1.0 0.0 0.0 32.0 'no' 'yes' 0.21396064729363068]\n",
            " [1.0 0.0 1.0 0.0 56.0 'yes' 'yes' -0.4365797740191076]\n",
            " [0.0 1.0 0.0 0.0 35.0 'no' 'no' 0.6786323768027295]\n",
            " [1.0 0.0 1.0 0.0 63.0 'yes' 'yes' -1.458857578939125]\n",
            " [1.0 0.0 0.0 1.0 28.0 'no' 'no' 0.6786323768027295]\n",
            " [1.0 0.0 1.0 0.0 56.0 'yes' 'no' -0.5295141199209273]\n",
            " [1.0 0.0 1.0 0.0 90.0 'yes' 'yes' -1.3659232330373052]\n",
            " [1.0 0.0 0.0 1.0 17.0 'no' 'no' 1.0503697604100084]\n",
            " [0.0 1.0 0.0 0.0 40.0 'no' 'yes' 0.7715667227045492]\n",
            " [0.0 1.0 0.0 0.0 61.0 'no' 'yes' 0.7715667227045492]\n",
            " [1.0 0.0 1.0 0.0 82.0 'yes' 'yes' -0.8083171576263867]\n",
            " [0.0 1.0 0.0 0.0 49.0 'no' 'no' -0.15777673631364833]\n",
            " [0.0 1.0 0.0 0.0 32.0 'no' 'no' 0.6786323768027295]\n",
            " [1.0 0.0 1.0 0.0 59.0 'no' 'yes' -1.1800545412336656]\n",
            " [1.0 0.0 1.0 0.0 86.0 'no' 'yes' -0.5295141199209273]\n",
            " [1.0 0.0 0.0 1.0 12.0 'no' 'no' 1.4221071440172874]\n",
            " [1.0 0.0 1.0 0.0 61.0 'yes' 'yes' -0.5295141199209273]\n",
            " [1.0 0.0 0.0 1.0 19.0 'no' 'no' 0.6786323768027295]\n",
            " [1.0 0.0 0.0 1.0 15.0 'no' 'no' 1.143304106311828]\n",
            " [1.0 0.0 0.0 1.0 26.0 'no' 'no' 0.034826328381427]\n",
            " [0.0 1.0 0.0 0.0 30.0 'no' 'no' -1.830594962546404]\n",
            " [1.0 0.0 1.0 0.0 80.0 'no' 'yes' 0.9574354145081887]\n",
            " [1.0 0.0 0.0 1.0 20.0 'no' 'no' 0.9574354145081887]\n",
            " [1.0 0.0 1.0 0.0 64.0 'yes' 'yes' -0.8083171576263867]]\n"
          ]
        }
      ]
    }
  ]
}