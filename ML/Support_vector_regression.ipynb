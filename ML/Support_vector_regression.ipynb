{
  "nbformat": 4,
  "nbformat_minor": 0,
  "metadata": {
    "colab": {
      "provenance": [],
      "toc_visible": true,
      "include_colab_link": true
    },
    "kernelspec": {
      "name": "python3",
      "display_name": "Python 3"
    }
  },
  "cells": [
    {
      "cell_type": "markdown",
      "metadata": {
        "id": "view-in-github",
        "colab_type": "text"
      },
      "source": [
        "<a href=\"https://colab.research.google.com/github/Usman972002/Python/blob/main/ML/Support_vector_regression.ipynb\" target=\"_parent\"><img src=\"https://colab.research.google.com/assets/colab-badge.svg\" alt=\"Open In Colab\"/></a>"
      ]
    },
    {
      "cell_type": "markdown",
      "metadata": {
        "id": "FB7mg-9WUSAn"
      },
      "source": [
        "# Support Vector Regression (SVR)"
      ]
    },
    {
      "cell_type": "markdown",
      "metadata": {
        "id": "zcXufiytUV3b"
      },
      "source": [
        "## Importing Libraries"
      ]
    },
    {
      "cell_type": "code",
      "metadata": {
        "id": "O1HaguaIK6kH"
      },
      "source": [
        "import numpy as np\n",
        "import matplotlib.pyplot as plt\n",
        "import pandas as pd"
      ],
      "execution_count": 18,
      "outputs": []
    },
    {
      "cell_type": "markdown",
      "metadata": {
        "id": "x1V8I7-1Ugu8"
      },
      "source": [
        "## Importing Data Set"
      ]
    },
    {
      "cell_type": "code",
      "metadata": {
        "id": "LvNwT6-bK8j3"
      },
      "source": [
        "dataset = pd.read_csv('SVR.csv')\n",
        "x = dataset.iloc[:, 1:-1].values\n",
        "# print(x)\n",
        "y = dataset.iloc[:, -1].values\n",
        "# print(y)"
      ],
      "execution_count": 19,
      "outputs": []
    },
    {
      "cell_type": "markdown",
      "metadata": {
        "id": "2vBbKI1BUilB"
      },
      "source": [
        "## Feature Scaling"
      ]
    },
    {
      "cell_type": "code",
      "source": [
        "y = y.reshape(len(y),1)\n",
        "print(y)"
      ],
      "metadata": {
        "colab": {
          "base_uri": "https://localhost:8080/"
        },
        "id": "fAjF3KHaJuLX",
        "outputId": "4ce92af1-e396-4727-c0b2-1a7608df62df"
      },
      "execution_count": 20,
      "outputs": [
        {
          "output_type": "stream",
          "name": "stdout",
          "text": [
            "[[  17000]\n",
            " [  27000]\n",
            " [  40000]\n",
            " [  65000]\n",
            " [ 100000]\n",
            " [ 150000]\n",
            " [ 250000]\n",
            " [ 400000]\n",
            " [ 650000]\n",
            " [1000000]\n",
            " [1800000]\n",
            " [4000000]]\n"
          ]
        }
      ]
    },
    {
      "cell_type": "markdown",
      "metadata": {
        "id": "K6uEL0b5Utac"
      },
      "source": [
        "## Training the SVR model on the whole dataset"
      ]
    },
    {
      "cell_type": "code",
      "source": [
        "from sklearn.preprocessing import StandardScaler\n",
        "x_svr = StandardScaler()\n",
        "y_svr = StandardScaler()\n",
        "\n",
        "x = x_svr.fit_transform(x)\n",
        "y = y_svr.fit_transform(y)\n",
        "# print(x)\n",
        "# print(y)"
      ],
      "metadata": {
        "id": "8c7wjcOxJ4Ez"
      },
      "execution_count": 21,
      "outputs": []
    },
    {
      "cell_type": "code",
      "source": [
        "from sklearn.svm import SVR\n",
        "reg = SVR(kernel = 'rbf')\n",
        "reg.fit(x,y)"
      ],
      "metadata": {
        "colab": {
          "base_uri": "https://localhost:8080/"
        },
        "id": "jswcVbvdMtlm",
        "outputId": "7310dab0-fc2d-4c38-b8b4-a68598f58366"
      },
      "execution_count": 22,
      "outputs": [
        {
          "output_type": "stream",
          "name": "stderr",
          "text": [
            "/usr/local/lib/python3.7/dist-packages/sklearn/utils/validation.py:993: DataConversionWarning: A column-vector y was passed when a 1d array was expected. Please change the shape of y to (n_samples, ), for example using ravel().\n",
            "  y = column_or_1d(y, warn=True)\n"
          ]
        },
        {
          "output_type": "execute_result",
          "data": {
            "text/plain": [
              "SVR()"
            ]
          },
          "metadata": {},
          "execution_count": 22
        }
      ]
    },
    {
      "cell_type": "markdown",
      "metadata": {
        "id": "HvZExhwPRQBn"
      },
      "source": [
        "## Visualising the SVR results"
      ]
    },
    {
      "cell_type": "code",
      "source": [
        "plt.scatter(x_svr.inverse_transform(x),y_svr.inverse_transform(y),c='r')\n",
        "plt.plot(x_svr.inverse_transform(x),y_svr.inverse_transform(reg.predict(x).reshape(-1,1)),c='g')\n",
        "plt.title(\"SVR\")\n",
        "plt.xlabel(\"Position Level\")\n",
        "plt.ylabel(\"Salary\")\n",
        "plt.show()"
      ],
      "metadata": {
        "colab": {
          "base_uri": "https://localhost:8080/",
          "height": 295
        },
        "id": "4Eek_E_ENDxe",
        "outputId": "77bdea04-a929-487b-e8f9-4bc2ce04b54a"
      },
      "execution_count": 25,
      "outputs": [
        {
          "output_type": "display_data",
          "data": {
            "text/plain": [
              "<Figure size 432x288 with 1 Axes>"
            ],
            "image/png": "[encoded data removed]"
          },
          "metadata": {
            "needs_background": "light"
          }
        }
      ]
    }
  ]
}