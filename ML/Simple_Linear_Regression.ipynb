{
  "nbformat": 4,
  "nbformat_minor": 0,
  "metadata": {
    "colab": {
      "provenance": [],
      "include_colab_link": true
    },
    "kernelspec": {
      "name": "python3",
      "display_name": "Python 3"
    }
  },
  "cells": [
    {
      "cell_type": "markdown",
      "metadata": {
        "id": "view-in-github",
        "colab_type": "text"
      },
      "source": [
        "<a href=\"https://colab.research.google.com/github/Usman972002/Python/blob/main/ML/Simple_Linear_Regression.ipynb\" target=\"_parent\"><img src=\"https://colab.research.google.com/assets/colab-badge.svg\" alt=\"Open In Colab\"/></a>"
      ]
    },
    {
      "cell_type": "markdown",
      "metadata": {
        "id": "FB7mg-9WUSAn"
      },
      "source": [
        "# Simple Linear Regression "
      ]
    },
    {
      "cell_type": "markdown",
      "metadata": {
        "id": "zcXufiytUV3b"
      },
      "source": [
        "## Importing Libraries"
      ]
    },
    {
      "cell_type": "code",
      "source": [
        "import numpy as np\n",
        "import matplotlib.pyplot as plt\n",
        "import pandas as pd"
      ],
      "metadata": {
        "id": "ggHxlciM2vZb"
      },
      "execution_count": 1,
      "outputs": []
    },
    {
      "cell_type": "markdown",
      "metadata": {
        "id": "x1V8I7-1Ugu8"
      },
      "source": [
        "## Importing Data Set"
      ]
    },
    {
      "cell_type": "code",
      "source": [
        "ds = pd.read_csv('salry.csv')\n",
        "x = ds.iloc[ :, :-1].values\n",
        "# print(x)\n",
        "y = ds.iloc[ :, -1].values\n",
        "# print(y)"
      ],
      "metadata": {
        "id": "sIX3vl993krW",
        "outputId": "dba5b7a0-170d-42d1-df0a-6eefb6e50593",
        "colab": {
          "base_uri": "https://localhost:8080/"
        }
      },
      "execution_count": 6,
      "outputs": [
        {
          "output_type": "stream",
          "name": "stdout",
          "text": [
            "[325000 361259 340000 414101 405000 500000 495000 541000 568190 640000\n",
            " 610000 626710 690101 680000 760000 800000 780000 840000 860000 900000\n",
            " 930000 920000 910000 931910 951010]\n"
          ]
        }
      ]
    },
    {
      "cell_type": "markdown",
      "metadata": {
        "id": "2vBbKI1BUilB"
      },
      "source": [
        "## Splitting into test and training set"
      ]
    },
    {
      "cell_type": "code",
      "source": [
        "from sklearn.model_selection import train_test_split\n",
        "x_train , x_test , y_train ,y_test = train_test_split(x,y,test_size= 0.3 , random_state= 42)"
      ],
      "metadata": {
        "id": "aKs70Ojf4HNZ"
      },
      "execution_count": 9,
      "outputs": []
    },
    {
      "cell_type": "markdown",
      "metadata": {
        "id": "K6uEL0b5Utac"
      },
      "source": [
        "## Training on Training Set using Simple Linear Regression"
      ]
    },
    {
      "cell_type": "code",
      "source": [
        "from sklearn.linear_model import LinearRegression\n",
        "reg = LinearRegression()\n",
        "reg.fit(x_train ,y_train)"
      ],
      "metadata": {
        "id": "C6nYiqaT41Py",
        "outputId": "120ba014-805f-4de7-d4ae-bf16b7aaf093",
        "colab": {
          "base_uri": "https://localhost:8080/"
        }
      },
      "execution_count": 10,
      "outputs": [
        {
          "output_type": "execute_result",
          "data": {
            "text/plain": [
              "LinearRegression()"
            ]
          },
          "metadata": {},
          "execution_count": 10
        }
      ]
    },
    {
      "cell_type": "markdown",
      "metadata": {
        "id": "RyRva69qUzBK"
      },
      "source": [
        "## Prediction on Test Set"
      ]
    },
    {
      "cell_type": "code",
      "source": [
        "y_pred  = reg.predict(x_test)\n",
        "# print(y_pred)"
      ],
      "metadata": {
        "id": "Jkx2q7wk5YJE",
        "outputId": "3fa25abc-0501-4cab-cdcd-2e089b0e67b2",
        "colab": {
          "base_uri": "https://localhost:8080/"
        }
      },
      "execution_count": 12,
      "outputs": [
        {
          "output_type": "stream",
          "name": "stdout",
          "text": [
            "[576760.74423653 752849.9347674  307447.86460109 980730.0636897\n",
            " 628551.68262796 576760.74423653 669984.43334111 328164.23995766]\n"
          ]
        }
      ]
    },
    {
      "cell_type": "markdown",
      "metadata": {
        "id": "uziF7cmeU4tJ"
      },
      "source": [
        "## Visualizing the Training Set"
      ]
    },
    {
      "cell_type": "code",
      "source": [
        "plt.scatter(x_train,y_train,c='g')\n",
        "plt.plot(x_train,reg.predict(x_train),c = 'm')\n",
        "plt.xlabel(\"CTC\")\n",
        "plt.ylabel(\"Years of Experience\")\n",
        "plt.title(\"CTC vs Years of Experience\")\n",
        "plt.show()"
      ],
      "metadata": {
        "id": "iZud8goG5xH2",
        "outputId": "ffd37d12-964b-4ce4-c455-ea2dbc1c6dc3",
        "colab": {
          "base_uri": "https://localhost:8080/",
          "height": 295
        }
      },
      "execution_count": 17,
      "outputs": [
        {
          "output_type": "display_data",
          "data": {
            "text/plain": [
              "<Figure size 432x288 with 1 Axes>"
            ],
            "image/png": "[encoded data removed]"
          },
          "metadata": {
            "needs_background": "light"
          }
        }
      ]
    },
    {
      "cell_type": "markdown",
      "metadata": {
        "id": "3ot8DaEpsxxb"
      },
      "source": [
        "## Visualizing the Test Set"
      ]
    },
    {
      "cell_type": "code",
      "source": [
        "plt.scatter(x_test,y_test,c='g')\n",
        "plt.plot(x_train,reg.predict(x_train),c = 'm')\n",
        "plt.xlabel(\"CTC\")\n",
        "plt.ylabel(\"Years of Experience\")\n",
        "plt.title(\"CTC vs Years of Experience\")\n",
        "plt.show()"
      ],
      "metadata": {
        "id": "Q44CVjBQ6hRD",
        "outputId": "9fbf5ef7-4bb9-4132-c1ff-883ecfee92f2",
        "colab": {
          "base_uri": "https://localhost:8080/",
          "height": 295
        }
      },
      "execution_count": 18,
      "outputs": [
        {
          "output_type": "display_data",
          "data": {
            "text/plain": [
              "<Figure size 432x288 with 1 Axes>"
            ],
            "image/png": "[encoded data removed]"
          },
          "metadata": {
            "needs_background": "light"
          }
        }
      ]
    }
  ]
}