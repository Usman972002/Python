{
  "nbformat": 4,
  "nbformat_minor": 0,
  "metadata": {
    "colab": {
      "provenance": [],
      "collapsed_sections": [],
      "authorship_tag": "ABX9TyNjbppzveCyBbsYN12kHHzw",
      "include_colab_link": true
    },
    "kernelspec": {
      "name": "python3",
      "display_name": "Python 3"
    },
    "language_info": {
      "name": "python"
    }
  },
  "cells": [
    {
      "cell_type": "markdown",
      "metadata": {
        "id": "view-in-github",
        "colab_type": "text"
      },
      "source": [
        "<a href=\"https://colab.research.google.com/github/Usman972002/Python/blob/main/ML/NumPyMl.ipynb\" target=\"_parent\"><img src=\"https://colab.research.google.com/assets/colab-badge.svg\" alt=\"Open In Colab\"/></a>"
      ]
    },
    {
      "cell_type": "code",
      "execution_count": 1,
      "metadata": {
        "id": "cekCh44_BB9p"
      },
      "outputs": [],
      "source": [
        "import numpy as np"
      ]
    },
    {
      "cell_type": "markdown",
      "source": [
        "--> **NumPy** is a Python library used for working with arrays.\n",
        "-->NumPy stands for Numerical Python.\n",
        "\n",
        "Why Use NumPy?\n",
        "-->In Python we have lists that serve the purpose of arrays, but they are slow to process.\n",
        "\n",
        "-->NumPy aims to provide an array object that is up to 50x faster than traditional Python lists.\n",
        "\n",
        "-->The array object in NumPy is called ndarray, it provides a lot of supporting functions that make working with ndarray very easy.\n"
      ],
      "metadata": {
        "id": "GksT0ppTDFcH"
      }
    },
    {
      "cell_type": "code",
      "source": [
        "arr = np.array([[1,2,3],[4,5,6]]) #creating an array using numpy\n",
        "print(arr)"
      ],
      "metadata": {
        "colab": {
          "base_uri": "https://localhost:8080/"
        },
        "id": "8eSD1tKRDmF6",
        "outputId": "9db28388-dedb-473f-91ce-20c6923544dd"
      },
      "execution_count": null,
      "outputs": [
        {
          "output_type": "stream",
          "name": "stdout",
          "text": [
            "[[1 2 3]\n",
            " [4 5 6]]\n"
          ]
        }
      ]
    },
    {
      "cell_type": "code",
      "source": [
        "print(type(arr)) #Checking the type of array\n",
        "print(arr.dtype) #tells the datatype of the array\n",
        "print(arr.ndim) # prints the number of dimensions of the array"
      ],
      "metadata": {
        "colab": {
          "base_uri": "https://localhost:8080/"
        },
        "id": "WWPhwjzOEiLH",
        "outputId": "6c39d3e2-e5e1-4e4f-dda5-c18334c18c1b"
      },
      "execution_count": null,
      "outputs": [
        {
          "output_type": "stream",
          "name": "stdout",
          "text": [
            "<class 'numpy.ndarray'>\n",
            "int64\n",
            "2\n"
          ]
        }
      ]
    },
    {
      "cell_type": "markdown",
      "source": [
        "Higher Dimensional Arrays::\n",
        "-------------------------------------\n",
        "--> An array can have any number of dimensions.\n",
        "-->When the array is created, you can define the number of dimensions by using the ndmin argument"
      ],
      "metadata": {
        "id": "cAHHgXmtF5gI"
      }
    },
    {
      "cell_type": "code",
      "source": [
        "arr1 = np.array([1,2,3,4,5],ndmin=5) #creating 5 dimensional array\n",
        "print(arr1)\n",
        "print(arr1.ndim)"
      ],
      "metadata": {
        "colab": {
          "base_uri": "https://localhost:8080/"
        },
        "id": "kSpiz49jGDqi",
        "outputId": "e657fe2c-ac5e-4fd0-f752-ac22b0b20876"
      },
      "execution_count": null,
      "outputs": [
        {
          "output_type": "stream",
          "name": "stdout",
          "text": [
            "[[[[[1 2 3 4 5]]]]]\n",
            "5\n"
          ]
        }
      ]
    },
    {
      "cell_type": "code",
      "source": [
        "# Accesing array elements\n",
        "print(arr[0,1]) \n",
        "print(arr[-2,-1])#Negative indexing"
      ],
      "metadata": {
        "colab": {
          "base_uri": "https://localhost:8080/"
        },
        "id": "1PFBgy-hG-c8",
        "outputId": "7bf7fb96-a00f-4263-f265-2c45e895b071"
      },
      "execution_count": null,
      "outputs": [
        {
          "output_type": "stream",
          "name": "stdout",
          "text": [
            "2\n",
            "3\n"
          ]
        }
      ]
    },
    {
      "cell_type": "code",
      "source": [
        "arr2 = np.array([i for i in range(10)])\n",
        "print(arr2)"
      ],
      "metadata": {
        "colab": {
          "base_uri": "https://localhost:8080/"
        },
        "id": "HBDBnPbCHr9t",
        "outputId": "1713136b-a521-4b35-cbbe-3dcf188a1ae2"
      },
      "execution_count": null,
      "outputs": [
        {
          "output_type": "stream",
          "name": "stdout",
          "text": [
            "[0 1 2 3 4 5 6 7 8 9]\n"
          ]
        }
      ]
    },
    {
      "cell_type": "code",
      "source": [
        "# Slicing array elements\n",
        "print(arr2[1:5])\n",
        "print(arr2[-3:-1]) #Negative Slicing\n",
        "print(arr[0,0:2])# 2D Slicing\n",
        "print(arr2[1:10:2])#Step Slicing"
      ],
      "metadata": {
        "colab": {
          "base_uri": "https://localhost:8080/"
        },
        "id": "PbYAbpKgIGUG",
        "outputId": "9771c1f6-c880-442e-96d8-6c2f3011966b"
      },
      "execution_count": null,
      "outputs": [
        {
          "output_type": "stream",
          "name": "stdout",
          "text": [
            "[1 2 3 4]\n",
            "[7 8]\n",
            "[1 2]\n",
            "[1 3 5 7 9]\n"
          ]
        }
      ]
    },
    {
      "cell_type": "markdown",
      "source": [
        "Data Types in NumPy\n",
        "NumPy has some extra data types, and refer to data types with one character.\n",
        "\n",
        "i - integer,\n",
        "b - boolean,\n",
        "u - unsigned integer,\n",
        "f - float,\n",
        "c - complex float,\n",
        "m - timedelta,\n",
        "M - datetime,\n",
        "O - object,\n",
        "S - string,\n",
        "U - unicode string,\n",
        "V - fixed chunk of memory for other type ( void )"
      ],
      "metadata": {
        "id": "N0NjO3cXJhHV"
      }
    },
    {
      "cell_type": "code",
      "source": [
        "arr3 = np.array([1,2,3,4,5,6,6,677,8],dtype='f') #creating our own data type for the array\n",
        "print(arr3.dtype)"
      ],
      "metadata": {
        "colab": {
          "base_uri": "https://localhost:8080/"
        },
        "id": "6msI0OnEJyhJ",
        "outputId": "3bb975e5-76c3-47e5-e832-7e89ed227dcd"
      },
      "execution_count": null,
      "outputs": [
        {
          "output_type": "stream",
          "name": "stdout",
          "text": [
            "float32\n"
          ]
        }
      ]
    },
    {
      "cell_type": "markdown",
      "source": [
        "Converting Data Type on Existing Arrays\n",
        "\n",
        "-->The best way to change the data type of an existing array, is to make a copy of the array with the astype() method.\n",
        "\n",
        "-->The astype() function creates a copy of the array, and allows you to specify the data type as a parameter."
      ],
      "metadata": {
        "id": "SrpAEjpOKn-b"
      }
    },
    {
      "cell_type": "code",
      "source": [
        "arr4 = np.array([1,2,3,4,5,6,7,8,9,10])\n",
        "print(arr4.dtype)\n",
        "# Converting the above existing array data type to another data type\n",
        "arr5 = arr4.astype('S') #Converted it to String\n",
        "print(arr5.dtype)\n",
        "arr5"
      ],
      "metadata": {
        "colab": {
          "base_uri": "https://localhost:8080/"
        },
        "id": "iK1i1bJHKwG9",
        "outputId": "4d622d11-141a-4db1-8f46-74d3be2d75b7"
      },
      "execution_count": null,
      "outputs": [
        {
          "output_type": "stream",
          "name": "stdout",
          "text": [
            "int64\n",
            "|S21\n"
          ]
        },
        {
          "output_type": "execute_result",
          "data": {
            "text/plain": [
              "array([b'1', b'2', b'3', b'4', b'5', b'6', b'7', b'8', b'9', b'10'],\n",
              "      dtype='|S21')"
            ]
          },
          "metadata": {},
          "execution_count": 31
        }
      ]
    },
    {
      "cell_type": "code",
      "source": [
        "# The shape of an array is the number of elements in each dimension\n",
        "arr1.shape"
      ],
      "metadata": {
        "colab": {
          "base_uri": "https://localhost:8080/"
        },
        "id": "WMR13ymMQXBv",
        "outputId": "aa845de8-1c01-4fe7-f41f-b01977c1a97a"
      },
      "execution_count": null,
      "outputs": [
        {
          "output_type": "execute_result",
          "data": {
            "text/plain": [
              "(1, 1, 1, 1, 5)"
            ]
          },
          "metadata": {},
          "execution_count": 32
        }
      ]
    },
    {
      "cell_type": "code",
      "source": [
        "# Reshaping means changing the shape of an array.\n",
        "# By reshaping we can add or remove dimensions or change number of elements in each dimension.\n",
        "arr6 = np.ones(9)\n",
        "print(arr6)\n",
        "arr7 = arr6.reshape(3,3)\n",
        "print(arr7)\n",
        "arr7.ndim"
      ],
      "metadata": {
        "colab": {
          "base_uri": "https://localhost:8080/"
        },
        "id": "Qzh-526_RHgQ",
        "outputId": "5bcbd0da-6748-4339-8fec-9b14f144ef08"
      },
      "execution_count": null,
      "outputs": [
        {
          "output_type": "stream",
          "name": "stdout",
          "text": [
            "[1. 1. 1. 1. 1. 1. 1. 1. 1.]\n",
            "[[1. 1. 1.]\n",
            " [1. 1. 1.]\n",
            " [1. 1. 1.]]\n"
          ]
        },
        {
          "output_type": "execute_result",
          "data": {
            "text/plain": [
              "2"
            ]
          },
          "metadata": {},
          "execution_count": 45
        }
      ]
    },
    {
      "cell_type": "code",
      "source": [
        "# Flattening array means converting a multidimensional array into a 1D array.\n",
        "# We can use reshape(-1) to do this.\n",
        "arr8 = np.zeros((3,3,3))\n",
        "print(arr8)\n",
        "arr9 = arr8.reshape(-1)\n",
        "print(arr9)"
      ],
      "metadata": {
        "colab": {
          "base_uri": "https://localhost:8080/"
        },
        "id": "nCGZdju8TOZ-",
        "outputId": "7243c70d-7919-4d63-ab7f-ba95c27ca590"
      },
      "execution_count": null,
      "outputs": [
        {
          "output_type": "stream",
          "name": "stdout",
          "text": [
            "[[[0. 0. 0.]\n",
            "  [0. 0. 0.]\n",
            "  [0. 0. 0.]]\n",
            "\n",
            " [[0. 0. 0.]\n",
            "  [0. 0. 0.]\n",
            "  [0. 0. 0.]]\n",
            "\n",
            " [[0. 0. 0.]\n",
            "  [0. 0. 0.]\n",
            "  [0. 0. 0.]]]\n",
            "[0. 0. 0. 0. 0. 0. 0. 0. 0. 0. 0. 0. 0. 0. 0. 0. 0. 0. 0. 0. 0. 0. 0. 0.\n",
            " 0. 0. 0.]\n"
          ]
        }
      ]
    },
    {
      "cell_type": "code",
      "source": [
        "# The function nditer() is a helping function that can be used from very basic to very advanced iterations\n",
        "a = np.array([[[1,2,3],[4,5,6],[7,8,9]]])\n",
        "for i in a: #Normal iteration\n",
        "  print(i)\n",
        "for i in np.nditer(a):#prints Scalar values in the given matrix\n",
        "  print(i)"
      ],
      "metadata": {
        "colab": {
          "base_uri": "https://localhost:8080/"
        },
        "id": "NktebCN9qh3w",
        "outputId": "f1557ee8-0bf3-41f2-9934-e49b219faa70"
      },
      "execution_count": null,
      "outputs": [
        {
          "output_type": "stream",
          "name": "stdout",
          "text": [
            "[[1 2 3]\n",
            " [4 5 6]\n",
            " [7 8 9]]\n",
            "1\n",
            "2\n",
            "3\n",
            "4\n",
            "5\n",
            "6\n",
            "7\n",
            "8\n",
            "9\n"
          ]
        }
      ]
    },
    {
      "cell_type": "code",
      "source": [
        "# Array Joining\n",
        "u = np.array([1,2,3])\n",
        "b = np.array([4,5,6])\n",
        "print(np.concatenate((u,b))) #simply adding two arrays\n",
        "print(np.stack((u,b),axis=1)) # stack using arrays\n",
        "print(np.hstack((u,b))) # stack along Rows\n",
        "print(np.vstack((u,b))) # stack along Coloumns\n",
        "print(np.dstack((u,b))) # stack along depth\n"
      ],
      "metadata": {
        "colab": {
          "base_uri": "https://localhost:8080/"
        },
        "id": "m0Bpqfvms4mV",
        "outputId": "3f691109-e7ae-4e7c-c232-a4f7d5136cb9"
      },
      "execution_count": null,
      "outputs": [
        {
          "output_type": "stream",
          "name": "stdout",
          "text": [
            "[1 2 3 4 5 6]\n",
            "[[1 4]\n",
            " [2 5]\n",
            " [3 6]]\n",
            "[1 2 3 4 5 6]\n",
            "[[1 2 3]\n",
            " [4 5 6]]\n",
            "[[[1 4]\n",
            "  [2 5]\n",
            "  [3 6]]]\n"
          ]
        }
      ]
    },
    {
      "cell_type": "code",
      "source": [
        "# Splitting Data\n",
        "array = np.array([[1, 2, 3], [4, 5, 6], [7, 8, 9], [10, 11, 12], [13, 14, 15], [16, 17, 18]])\n",
        "\n",
        "newarr = np.array_split(array, 3)\n",
        "print(newarr)\n",
        "print(np.hsplit(array,3))"
      ],
      "metadata": {
        "colab": {
          "base_uri": "https://localhost:8080/"
        },
        "id": "K1mfene50qBJ",
        "outputId": "0d2cea84-b4f4-481a-e77a-28825237fac9"
      },
      "execution_count": null,
      "outputs": [
        {
          "output_type": "stream",
          "name": "stdout",
          "text": [
            "[array([[1, 2, 3],\n",
            "       [4, 5, 6]]), array([[ 7,  8,  9],\n",
            "       [10, 11, 12]]), array([[13, 14, 15],\n",
            "       [16, 17, 18]])]\n",
            "[array([[ 1],\n",
            "       [ 4],\n",
            "       [ 7],\n",
            "       [10],\n",
            "       [13],\n",
            "       [16]]), array([[ 2],\n",
            "       [ 5],\n",
            "       [ 8],\n",
            "       [11],\n",
            "       [14],\n",
            "       [17]]), array([[ 3],\n",
            "       [ 6],\n",
            "       [ 9],\n",
            "       [12],\n",
            "       [15],\n",
            "       [18]])]\n"
          ]
        }
      ]
    },
    {
      "cell_type": "code",
      "source": [
        "# Searching and Sorting Arrays\n",
        "# To search an array, use the where() method\n",
        "# The NumPy ndarray object has a function called sort(), that will sort a specified array.\n",
        "a = np.array([1, 2, 3, 4, 5, 4, 4])\n",
        "\n",
        "print(np.where(a == 4))\n",
        "print(np.sort(a))"
      ],
      "metadata": {
        "colab": {
          "base_uri": "https://localhost:8080/"
        },
        "id": "MJyLU3D111Pq",
        "outputId": "27a6a57c-610c-4763-885f-db6819780414"
      },
      "execution_count": null,
      "outputs": [
        {
          "output_type": "stream",
          "name": "stdout",
          "text": [
            "(array([3, 5, 6]),)\n",
            "[1 2 3 4 4 4 5]\n"
          ]
        }
      ]
    },
    {
      "cell_type": "markdown",
      "source": [
        "Random numbers in NumPy\n",
        "\n",
        "-->Random number does NOT mean a different number every time. Random means something that can not be predicted logically.\n",
        "\n",
        "-->NumPy offers the random module to work with random numbers.\n"
      ],
      "metadata": {
        "id": "5_FPk-9eHW-f"
      }
    },
    {
      "cell_type": "code",
      "source": [
        "from numpy import random as r #importing random module from Numpy"
      ],
      "metadata": {
        "id": "FHsr5jroKp6V"
      },
      "execution_count": 4,
      "outputs": []
    },
    {
      "cell_type": "code",
      "source": [
        "x = r.randint(1000,10000) #Printing a random integer value from the range\n",
        "print(x)\n",
        "y = r.rand() # rand() method returns a float between 0 and 1\n",
        "print(y)"
      ],
      "metadata": {
        "colab": {
          "base_uri": "https://localhost:8080/"
        },
        "id": "MAZoSa6YK1Kq",
        "outputId": "8b5228a2-8a8d-48d5-8a87-9049817455c1"
      },
      "execution_count": 8,
      "outputs": [
        {
          "output_type": "stream",
          "name": "stdout",
          "text": [
            "1746\n",
            "0.08631924486277398\n"
          ]
        }
      ]
    },
    {
      "cell_type": "code",
      "source": [
        "# Arrays using random module\n",
        "a = r.randint(100,size=(10)) #1-D array of size 10\n",
        "print(a)\n",
        "b = r.randint(1000,size=(3,5)) #2-D array of size 3rows and 5 columns\n",
        "print(b)\n",
        "c = r.rand(5) #1-D floating array with size 5\n",
        "d = r.rand(3,5) #2-D floating array with 3 rows and 5 coloumns\n",
        "print(c)\n",
        "print(d)\n",
        "# The choice() method takes an array as a parameter and randomly returns one of the values.\n",
        "e = r.choice([1,2,3,4,5,6])\n",
        "print(e)\n",
        "# The choice() method also allows you to return an array of values.\n",
        "# Add a size parameter to specify the shape of the array.\n",
        "f = r.choice([1,2,3,4,5],size=(4,4))\n",
        "print(f)"
      ],
      "metadata": {
        "colab": {
          "base_uri": "https://localhost:8080/"
        },
        "id": "R_p-Ih8hMatz",
        "outputId": "4d774397-e270-4977-ed93-44ebff7dd96b"
      },
      "execution_count": 13,
      "outputs": [
        {
          "output_type": "stream",
          "name": "stdout",
          "text": [
            "[94 95 23 72 54 41 81 85 30 80]\n",
            "[[688 468 291 634 231]\n",
            " [210   1 346  13 236]\n",
            " [826 314 395 307 359]]\n",
            "[0.64666671 0.17236366 0.76872631 0.58498526 0.20206796]\n",
            "[[0.58734846 0.84018957 0.6842744  0.98764989 0.26085225]\n",
            " [0.24653235 0.20145418 0.6607757  0.71996519 0.53160476]\n",
            " [0.95737643 0.20095879 0.3353369  0.86457033 0.3324869 ]]\n",
            "3\n",
            "[[1 4 3 4]\n",
            " [1 2 5 4]\n",
            " [4 1 3 5]\n",
            " [4 2 2 5]]\n"
          ]
        }
      ]
    },
    {
      "cell_type": "code",
      "source": [
        "# Random data Distribution\n",
        "# A random distribution is a set of random numbers that follow a certain probability density function.\n",
        "x = r.choice([1,2,3,4,5],p=[0.1,0.2,0.3,0.4,0.0],size=(10)) #1-D array\n",
        "print(x)\n",
        "y = r.choice([1,2,3,4,5],p=[0.1,0.2,0.3,0.4,0.0],size=(3,5)) #2-D array\n",
        "print(y)"
      ],
      "metadata": {
        "colab": {
          "base_uri": "https://localhost:8080/"
        },
        "id": "WSZpZ67yOwvl",
        "outputId": "4b3422de-78c4-4610-9e3b-8d6b69fa7039"
      },
      "execution_count": 17,
      "outputs": [
        {
          "output_type": "stream",
          "name": "stdout",
          "text": [
            "[4 4 3 3 2 2 2 3 2 4]\n",
            "[[3 2 4 4 2]\n",
            " [3 2 3 2 4]\n",
            " [4 3 4 4 4]]\n"
          ]
        }
      ]
    },
    {
      "cell_type": "markdown",
      "source": [
        "Random Permutations of Elements\n",
        "\n",
        "A permutation refers to an arrangement of elements. e.g. [3, 2, 1] is a permutation of [1, 2, 3] and vice-versa.\n",
        "\n",
        "The NumPy Random module provides two methods for this: shuffle() and permutation()\n",
        "\n",
        "-->The shuffle() method makes changes to the original array.\n",
        "\n",
        "-->The permutation() method returns a re-arranged array (and leaves the original array un-changed)."
      ],
      "metadata": {
        "id": "3Lw1H0oXPyE3"
      }
    },
    {
      "cell_type": "code",
      "source": [
        "x = np.array([[1,2,3],[4,5,6],[7,8,9]])\n",
        "print(\"Before Shuffling\",x)\n",
        "r.shuffle(x)\n",
        "print(\"After Shuffling\",x)\n",
        "print(\"Permutation of x is:\",r.permutation(x))"
      ],
      "metadata": {
        "colab": {
          "base_uri": "https://localhost:8080/"
        },
        "id": "LCv44Ig0P-Sv",
        "outputId": "b28a75d5-064b-41b0-d2a7-4a0f4e8a32a0"
      },
      "execution_count": 22,
      "outputs": [
        {
          "output_type": "stream",
          "name": "stdout",
          "text": [
            "Before Shuffling [[1 2 3]\n",
            " [4 5 6]\n",
            " [7 8 9]]\n",
            "After Shuffling [[4 5 6]\n",
            " [7 8 9]\n",
            " [1 2 3]]\n",
            "Permutation of x is: [[1 2 3]\n",
            " [7 8 9]\n",
            " [4 5 6]]\n"
          ]
        }
      ]
    }
  ]
}