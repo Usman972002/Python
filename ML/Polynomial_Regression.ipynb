{
  "nbformat": 4,
  "nbformat_minor": 0,
  "metadata": {
    "colab": {
      "provenance": [],
      "toc_visible": true,
      "authorship_tag": "ABX9TyP+pQNURj5DdYaGFNLjuQ5X",
      "include_colab_link": true
    },
    "kernelspec": {
      "name": "python3",
      "display_name": "Python 3"
    },
    "language_info": {
      "name": "python"
    }
  },
  "cells": [
    {
      "cell_type": "markdown",
      "metadata": {
        "id": "view-in-github",
        "colab_type": "text"
      },
      "source": [
        "<a href=\"https://colab.research.google.com/github/Usman972002/Python/blob/main/ML/Polynomial_Regression.ipynb\" target=\"_parent\"><img src=\"https://colab.research.google.com/assets/colab-badge.svg\" alt=\"Open In Colab\"/></a>"
      ]
    },
    {
      "cell_type": "markdown",
      "source": [
        "# Importing Libraries"
      ],
      "metadata": {
        "id": "qcwIw9q59JEm"
      }
    },
    {
      "cell_type": "code",
      "source": [
        "import numpy as np\n",
        "import pandas as pd\n",
        "import matplotlib.pyplot as plt"
      ],
      "metadata": {
        "id": "qutiFzdv9WDa"
      },
      "execution_count": 1,
      "outputs": []
    },
    {
      "cell_type": "markdown",
      "source": [
        "# Importing data sets"
      ],
      "metadata": {
        "id": "t8QxwNWi9P5F"
      }
    },
    {
      "cell_type": "code",
      "source": [
        "ds = pd.read_csv(\"RBC_Pol_reg.csv\")\n",
        "# print(ds)\n",
        "x = ds.iloc[:,:-1].values\n",
        "# print(x)\n",
        "y = ds.iloc[:,-1].values\n",
        "# print(y)"
      ],
      "metadata": {
        "colab": {
          "base_uri": "https://localhost:8080/"
        },
        "id": "EqAtI14y9i9w",
        "outputId": "d497052d-649c-493a-aa83-a2d4405aadaf"
      },
      "execution_count": 4,
      "outputs": [
        {
          "output_type": "stream",
          "name": "stdout",
          "text": [
            "[  99  390  412 1481 1780 2105 2898 2680 2740 2800 2601 2343 2271 1902\n",
            " 1701 1491 1329 1191  809  701  493  291  269  240  191   21]\n"
          ]
        }
      ]
    },
    {
      "cell_type": "markdown",
      "source": [
        "# Training the linear regression Model with the dataset"
      ],
      "metadata": {
        "id": "4_CsnEis-mnN"
      }
    },
    {
      "cell_type": "code",
      "source": [
        "from sklearn.linear_model import LinearRegression\n",
        "reg = LinearRegression()\n",
        "reg.fit(x,y)"
      ],
      "metadata": {
        "colab": {
          "base_uri": "https://localhost:8080/"
        },
        "id": "Gmoa5WAF-uwD",
        "outputId": "6c814159-6fea-4c87-f362-3f5aa57119a4"
      },
      "execution_count": 5,
      "outputs": [
        {
          "output_type": "execute_result",
          "data": {
            "text/plain": [
              "LinearRegression()"
            ]
          },
          "metadata": {},
          "execution_count": 5
        }
      ]
    },
    {
      "cell_type": "markdown",
      "source": [
        "# Train The Polynomial Regression model on the whole data set"
      ],
      "metadata": {
        "id": "sggo_VCn_CPy"
      }
    },
    {
      "cell_type": "code",
      "source": [
        "from sklearn.preprocessing import PolynomialFeatures\n",
        "polyreg = PolynomialFeatures(degree = 8)\n",
        "x_poly = polyreg.fit_transform(x)\n",
        "\n",
        "reg2 = LinearRegression()\n",
        "reg2.fit(x_poly,y)\n"
      ],
      "metadata": {
        "colab": {
          "base_uri": "https://localhost:8080/"
        },
        "id": "-FY7XIp1_J-e",
        "outputId": "f0535870-2550-499a-81e8-76e24eebfbdc"
      },
      "execution_count": 22,
      "outputs": [
        {
          "output_type": "execute_result",
          "data": {
            "text/plain": [
              "LinearRegression()"
            ]
          },
          "metadata": {},
          "execution_count": 22
        }
      ]
    },
    {
      "cell_type": "markdown",
      "source": [
        "# Visualizing the linear regression features"
      ],
      "metadata": {
        "id": "3MiCoDETBPi-"
      }
    },
    {
      "cell_type": "code",
      "source": [
        "plt.scatter(x,y,c='r')\n",
        "plt.plot(x,reg.predict(x),c='g')\n",
        "plt.title(\"RBC Linear Regression\")\n",
        "plt.xlabel(\"Age\")\n",
        "plt.ylabel(\"RBC\")\n",
        "plt.show()"
      ],
      "metadata": {
        "colab": {
          "base_uri": "https://localhost:8080/",
          "height": 295
        },
        "id": "xh1bknEqBcWp",
        "outputId": "b38e71f5-2dc8-4c22-9ff4-87525744adec"
      },
      "execution_count": 23,
      "outputs": [
        {
          "output_type": "display_data",
          "data": {
            "text/plain": [
              "<Figure size 432x288 with 1 Axes>"
            ],
            "image/png": "[encoded data removed]"
          },
          "metadata": {
            "needs_background": "light"
          }
        }
      ]
    },
    {
      "cell_type": "markdown",
      "source": [
        "# Visualizing the Polynomial regression results"
      ],
      "metadata": {
        "id": "FtKspCTdCB1D"
      }
    },
    {
      "cell_type": "code",
      "source": [
        "plt.scatter(x,y,c='m')\n",
        "plt.plot(x,reg2.predict(x_poly),c='y')\n",
        "plt.title(\"RBC Linear Regression\")\n",
        "plt.xlabel(\"Age\")\n",
        "plt.ylabel(\"RBC\")\n",
        "plt.show()"
      ],
      "metadata": {
        "colab": {
          "base_uri": "https://localhost:8080/",
          "height": 295
        },
        "id": "HR6PZwnBCKao",
        "outputId": "949305e7-d462-4e6f-b4a9-0575a7dcc391"
      },
      "execution_count": 24,
      "outputs": [
        {
          "output_type": "display_data",
          "data": {
            "text/plain": [
              "<Figure size 432x288 with 1 Axes>"
            ],
            "image/png": "[encoded data removed]"
          },
          "metadata": {
            "needs_background": "light"
          }
        }
      ]
    },
    {
      "cell_type": "markdown",
      "source": [
        "# Predicting a new result with Linear regression"
      ],
      "metadata": {
        "id": "X6CUllGEE1AQ"
      }
    },
    {
      "cell_type": "code",
      "source": [
        "reg.predict([[10]])"
      ],
      "metadata": {
        "colab": {
          "base_uri": "https://localhost:8080/"
        },
        "id": "zB90xm2gE8IN",
        "outputId": "a60c4b14-a371-4c91-9312-28b966bccc57"
      },
      "execution_count": 19,
      "outputs": [
        {
          "output_type": "execute_result",
          "data": {
            "text/plain": [
              "array([1921.56653175])"
            ]
          },
          "metadata": {},
          "execution_count": 19
        }
      ]
    },
    {
      "cell_type": "markdown",
      "source": [
        "# Predicting a new result with Polynomial regression"
      ],
      "metadata": {
        "id": "JP1b5MIOFKpS"
      }
    },
    {
      "cell_type": "code",
      "source": [
        "reg2.predict(polyreg.fit_transform([[10]]))"
      ],
      "metadata": {
        "colab": {
          "base_uri": "https://localhost:8080/"
        },
        "id": "ZJvg5gkTFPiO",
        "outputId": "510d197d-14f4-4a92-c349-4e7ae8e867fe"
      },
      "execution_count": 21,
      "outputs": [
        {
          "output_type": "execute_result",
          "data": {
            "text/plain": [
              "array([1464.28213686])"
            ]
          },
          "metadata": {},
          "execution_count": 21
        }
      ]
    }
  ]
}